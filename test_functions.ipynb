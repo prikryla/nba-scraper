{
 "cells": [
  {
   "cell_type": "markdown",
   "metadata": {},
   "source": [
    "# Testing functions - not used in project"
   ]
  },
  {
   "cell_type": "markdown",
   "metadata": {},
   "source": [
    "## Funkce pro vrácení sumy bodů jednotlivých týmů za všechny sezóny \n",
    "\n",
    "TODO: seřadit sestupně pro zápis do xlsx"
   ]
  },
  {
   "cell_type": "code",
   "execution_count": null,
   "metadata": {},
   "outputs": [],
   "source": [
    "def sum_team_points_all_seasons():\n",
    "    soucet = 0    \n",
    "    for team in teamsAll:   \n",
    "         for index in sheet_names:   \n",
    "            seasonList = dict_df.get(index)                 \n",
    "            soucet += seasonList[seasonList['TEAM']==team].sum()['PTS']\n",
    "         print(f\"Součet pro tým {team} je {soucet} bodů.\")\n",
    "         soucet = 0\n",
    "         #TODO: seřadit dle počtu sestupně?\n",
    "sum_team_points_all_seasons()"
   ]
  },
  {
   "cell_type": "markdown",
   "metadata": {},
   "source": [
    "## Funkce pro výpočet procentuálních výher a proher za sezonu\n",
    "\n",
    "TODO: obecně pro všechny hráče i do listu all_players?\n"
   ]
  },
  {
   "cell_type": "code",
   "execution_count": null,
   "metadata": {},
   "outputs": [],
   "source": [
    "def number_W_L_per_season(playerName):\n",
    "    for index in sheet_names:\n",
    "        seasonList = dict_df.get(index)\n",
    "        print(index)\n",
    "        vyher = seasonList.loc[seasonList['PLAYER'] == playerName, 'W'].sum()\n",
    "        proher = seasonList.loc[seasonList['PLAYER'] == playerName, 'L'].sum()      \n",
    "        pocetZapasu = vyher+proher\n",
    "        if (pocetZapasu > 0):\n",
    "            vyher = round((vyher/pocetZapasu)*100,2);\n",
    "            proher = round((proher/pocetZapasu)*100,2);\n",
    "            print(f\"Hráč {playerName} za sezonu {index} vyhrál {vyher}% zápasů.\")\n",
    "            print(f\"Hráč {playerName} za sezonu {index} prohrál {proher}% zápasů.\")\n",
    "        else:\n",
    "            print('Hráč neodehrál žádný zápas')\n",
    "number_W_L_per_season('Kevin Durant')"
   ]
  },
  {
   "cell_type": "markdown",
   "metadata": {},
   "source": [
    "## Funkce pro výpočet procentuálních výher a proher za celou dobu\n",
    "\n",
    "Kontrolní fce, jestli fce number_W_L_all_time() funguje, jak má. "
   ]
  },
  {
   "cell_type": "code",
   "execution_count": null,
   "metadata": {},
   "outputs": [],
   "source": [
    "def number_W_L_all_time(playerName):\n",
    "    vyher = 0\n",
    "    proher = 0\n",
    "    for index in sheet_names:\n",
    "        seasonList = dict_df.get(index)        \n",
    "        vyher += seasonList.loc[seasonList['PLAYER'] == playerName, 'W'].sum()\n",
    "        proher += seasonList.loc[seasonList['PLAYER'] == playerName, 'L'].sum()   \n",
    "    pocetZapasu = vyher+proher\n",
    "    vyher = round((vyher/pocetZapasu)*100,2)\n",
    "    proher = round((proher/pocetZapasu)*100,2)\n",
    "    print(f\"{playerName} odehrál {pocetZapasu} zápasů a z toho jich {vyher}% vyhrál, {proher}% prohrál\")          \n",
    "number_W_L_all_time('Michael Jordan')"
   ]
  },
  {
   "cell_type": "markdown",
   "metadata": {},
   "source": [
    "## Funkce pro spočítání úspěšnosti field goals za celou dobu\n",
    "\n",
    "Kontrolní fce, zda-li fce succ_field_goals() funguje tak, jak má."
   ]
  },
  {
   "cell_type": "code",
   "execution_count": null,
   "metadata": {},
   "outputs": [],
   "source": [
    "def succ_field_goals(playerName):\n",
    "    celkovyPocet = 0\n",
    "    pocetUspesnych = 0\n",
    "    for index in sheet_names:\n",
    "        seasonList = dict_df.get(index) \n",
    "        celkovyPocet += seasonList.loc[seasonList['PLAYER'] == playerName, 'FGA'].sum()  \n",
    "        pocetUspesnych += seasonList.loc[seasonList['PLAYER'] == playerName, 'FGM'].sum()\n",
    "    uspesnost = round((pocetUspesnych/celkovyPocet)*100,2)\n",
    "    print(f\"Hráč {playerName} se za svoji kariéru v NBA pokusil celkem o {celkovyPocet} hodů na koš, bez trestných hodů, z toho bylo {pocetUspesnych} úspěšných hodů, {celkovyPocet-pocetUspesnych} neúspěšných hodů, procentuálně to vychází na {uspesnost}% úspěšnost\")\n",
    "succ_field_goals('Derrick Rose')   "
   ]
  },
  {
   "cell_type": "markdown",
   "metadata": {},
   "source": [
    "## Úspěšnost trojek pro hráče za celou dobu\n",
    "\n",
    "Kontrolní fce, zda-li fce succ_three_goals() funguje tak, jak má.\n",
    "\n",
    "- Problém by mohl být, že množina pokusů o hození trojky, je podmnožinou field goals"
   ]
  },
  {
   "cell_type": "code",
   "execution_count": null,
   "metadata": {},
   "outputs": [],
   "source": [
    "def succ_three_goals(playerName):\n",
    "    celkovyPocet = 0\n",
    "    pocetUspesnych = 0\n",
    "    for index in sheet_names:\n",
    "        seasonList = dict_df.get(index) \n",
    "        celkovyPocet += seasonList.loc[seasonList['PLAYER'] == playerName, '3PA'].sum()  \n",
    "        pocetUspesnych += seasonList.loc[seasonList['PLAYER'] == playerName, '3PM'].sum()\n",
    "    uspesnost = round((pocetUspesnych/celkovyPocet)*100,2)\n",
    "    print(f\"Hráč {playerName} se za svoji kariéru v NBA pokusil celkem o {celkovyPocet} tříbodových hodů na koš, z toho bylo {pocetUspesnych} úspěšných hodů, {celkovyPocet-pocetUspesnych} neúspěšných hodů, procentuálně to vychází na {uspesnost}% úspěšnost\")\n",
    "succ_three_goals('Didi Louzada')   "
   ]
  },
  {
   "cell_type": "markdown",
   "metadata": {},
   "source": [
    "## Úspěšnost trestných hodů za celou dobu\n",
    "\n",
    "Kontrolní fce, zda-li fce succ_free_throws() funguje tak, jak má."
   ]
  },
  {
   "cell_type": "code",
   "execution_count": null,
   "metadata": {},
   "outputs": [],
   "source": [
    "def succ_free_throws(playerName):\n",
    "    celkovyPocet = 0\n",
    "    pocetUspesnych = 0\n",
    "    for index in sheet_names:\n",
    "        seasonList = dict_df.get(index) \n",
    "        celkovyPocet += seasonList.loc[seasonList['PLAYER'] == playerName, 'FTA'].sum()  \n",
    "        pocetUspesnych += seasonList.loc[seasonList['PLAYER'] == playerName, 'FTM'].sum()\n",
    "    uspesnost = round((pocetUspesnych/celkovyPocet)*100,2)\n",
    "    print(f\"Hráč {playerName} se za svoji kariéru v NBA pokusil celkem o {celkovyPocet} trestných hodů na koš, z toho bylo {pocetUspesnych} úspěšných hodů, {celkovyPocet-pocetUspesnych} neúspěšných hodů, procentuálně to vychází na {uspesnost}% úspěšnost\")\n",
    "succ_free_throws('Kevin Durant')   "
   ]
  },
  {
   "cell_type": "markdown",
   "metadata": {},
   "source": [
    "## Funkce na výpočet průměrného počtu asistencí za celou dobu\n",
    "\n",
    "Kontrolní fce, jestli fce avg_assists() funguje tak, jak má. "
   ]
  },
  {
   "cell_type": "code",
   "execution_count": null,
   "metadata": {},
   "outputs": [],
   "source": [
    "def avg_assists(playerName):\n",
    "    celkovyPocet = 0\n",
    "    pocetZapasu = 0\n",
    "    for index in sheet_names:\n",
    "        seasonList = dict_df.get(index) \n",
    "        celkovyPocet += seasonList.loc[seasonList['PLAYER'] == playerName, 'AST'].sum()  \n",
    "        pocetZapasu += seasonList.loc[seasonList['PLAYER'] == playerName, 'GP'].sum()\n",
    "    prumer = round((celkovyPocet/pocetZapasu),2)\n",
    "    print(f\"Hráč {playerName} má průměrný počet asistencí {prumer} za zápas\")\n",
    "avg_assists('LeBron James')   "
   ]
  },
  {
   "cell_type": "markdown",
   "metadata": {},
   "source": [
    "## Funkce na výpočet průměrného počtu doskoků za celou dobu na zápas\n",
    "\n",
    "Kontrolní fce, jestli fce avg_reb() funguje tak, jak má."
   ]
  },
  {
   "cell_type": "code",
   "execution_count": null,
   "metadata": {},
   "outputs": [],
   "source": [
    "def avg_rebounds_cont(playerName):\n",
    "    celkovyPocet = 0\n",
    "    pocetZapasu = 0\n",
    "    for index in sheet_names:\n",
    "        seasonList = dict_df.get(index) \n",
    "        celkovyPocet += seasonList.loc[seasonList['PLAYER'] == playerName, 'REB'].sum()  \n",
    "        pocetZapasu += seasonList.loc[seasonList['PLAYER'] == playerName, 'GP'].sum()\n",
    "    prumer = round((celkovyPocet/pocetZapasu),2)\n",
    "    print(f\"Hráč {playerName} má průměrný počet doskoků {prumer} za zápas\")\n",
    "avg_rebounds('Derrick Rose')   "
   ]
  },
  {
   "cell_type": "markdown",
   "metadata": {},
   "source": [
    "## Funkce pro výpis všech unikátních hráčů za 10 sezon v NBA\n",
    "\n",
    "Asi možné smazat, protože je to již zmíněno nahoře "
   ]
  },
  {
   "cell_type": "code",
   "execution_count": null,
   "metadata": {},
   "outputs": [],
   "source": [
    "\n",
    "from openpyxl import load_workbook\n",
    "import pandas as pd\n",
    "import openpyxl\n",
    "\n",
    "dict_df = pd.read_excel('stats.xlsx', sheet_name=None)\n",
    "wb = openpyxl.load_workbook(\"stats.xlsx\")\n",
    "sheet_names = (wb.sheetnames)\n",
    "\n",
    "teamsAll = []\n",
    "for index in sheet_names: \n",
    "    row_sum = dict_df[index]['TEAM']\n",
    "    for indexy in row_sum:\n",
    "        if indexy not in teamsAll:\n",
    "            teamsAll.append(indexy)\n",
    "            \n",
    "#Dataframe pro týmy, pak se nakonec zapíše do excelu\n",
    "df_teams = pd.DataFrame (teamsAll, columns = ['TEAM'])   \n",
    "print(df_teams)        \n",
    "def all_players():\n",
    "    allPlayers = []\n",
    "    for index in sheet_names:\n",
    "        seasonList = dict_df.get(index)\n",
    "        players = seasonList['PLAYER']\n",
    "        for player in players:\n",
    "            if player not in allPlayers:\n",
    "                allPlayers.append(player)\n",
    "    #book = load_workbook('stats.xlsx', 'rb')\n",
    "    #writer = pd.ExcelWriter('stats.xlsx')\n",
    "    #writer.book = book\n",
    "    df = pd.DataFrame (allPlayers, columns = ['PLAYER']) \n",
    "    df_all = pd.DataFrame (allPlayers, columns = ['PLAYER'])       \n",
    "    print(df) #1392 hráčů, bez duplicit\n",
    "    \n",
    "    #df.to_excel(writer, sheet_name=\"all_players\", index=False)\n",
    "all_players()"
   ]
  },
  {
   "cell_type": "markdown",
   "metadata": {},
   "source": [
    "## Funkce pro výpočet průměrných bodů za sezonu pro hráče\n",
    "\n",
    "Kontrolní fce, zda-li fce sum_point_all_players() funguje tak, jak má. "
   ]
  },
  {
   "cell_type": "code",
   "execution_count": null,
   "metadata": {},
   "outputs": [],
   "source": [
    "\n",
    "def sum_for_player(playerName):\n",
    "    prumer = 0\n",
    "    for index in sheet_names:   \n",
    "        seasonList = dict_df.get(index)  \n",
    "        print(index)\n",
    "        soucet = seasonList.loc[seasonList['PLAYER'] == playerName, 'PTS'].sum()\n",
    "        pocet = seasonList.loc[seasonList['PLAYER'] == playerName, 'GP'].sum()       \n",
    "        py_int_soucet = soucet.item() ##Takhle to dělám protože je to numpy type a takhle se převádí. Bez toho výpočet vrací hodnotu inf\n",
    "        py_int_pocet = pocet.item() \n",
    "        if (py_int_pocet > 0):            \n",
    "            prumer = py_int_soucet/py_int_pocet \n",
    "            print(f\"Průměrný počet bodů za {index} pro hráče {playerName} je {prumer}\")              \n",
    "        else: \n",
    "            print('Hráč neodehrál žádný zápas v sezóně')                    \n",
    "sum_for_player('Kevin Durant')\n",
    "\n",
    "    "
   ]
  },
  {
   "cell_type": "markdown",
   "metadata": {},
   "source": [
    "## Funkce pro výpočet celkového průměru za všechny sezony pro hráče\n",
    "\n",
    "Kontrolní fce, zda-li fce sum_point_all_players() funguje tak, jak má. "
   ]
  },
  {
   "cell_type": "code",
   "execution_count": null,
   "metadata": {},
   "outputs": [],
   "source": [
    "def sum_for_player_all_season(playerName):\n",
    "    soucet = 0\n",
    "    pocet = 0\n",
    "    for index in sheet_names:\n",
    "        seasonList = dict_df.get(index)\n",
    "        soucet += seasonList.loc[seasonList['PLAYER'] == playerName, 'PTS'].sum()\n",
    "        pocet += seasonList.loc[seasonList['PLAYER'] == playerName, 'GP'].sum()\n",
    "    prumer = soucet.item()/pocet.item()\n",
    "    print(f\"Průměrný počet bodů za posledních 10 sezon {playerName} je {prumer}\")     \n",
    "sum_for_player_all_season('Michael Jordan')\n",
    "        "
   ]
  },
  {
   "cell_type": "markdown",
   "metadata": {},
   "source": [
    "# Kontrolní fce pro průměrný počet steals za celou dobu pro hráče"
   ]
  },
  {
   "cell_type": "code",
   "execution_count": null,
   "metadata": {},
   "outputs": [],
   "source": [
    "def avgSTL_for_player_all_season(playerName):\n",
    "    soucet = 0\n",
    "    pocet = 0\n",
    "    for index in sheet_names:\n",
    "        seasonList = dict_df.get(index)\n",
    "        soucet += seasonList.loc[seasonList['PLAYER'] == playerName, 'STL'].sum()\n",
    "        pocet += seasonList.loc[seasonList['PLAYER'] == playerName, 'GP'].sum()\n",
    "    prumer = soucet.item()/pocet.item()\n",
    "    print(f\"Průměrný počet STL za posledních 10 sezon {playerName} je {prumer}\")     \n",
    "avgSTL_for_player_all_season('Michael Jordan')\n",
    "        "
   ]
  },
  {
   "cell_type": "markdown",
   "metadata": {},
   "source": [
    "# Kontrolní fce pro průměrná počet počet TO pro hráče"
   ]
  },
  {
   "cell_type": "code",
   "execution_count": null,
   "metadata": {},
   "outputs": [],
   "source": [
    "def avgTO_for_player_all_season(playerName):\n",
    "    soucet = 0\n",
    "    pocet = 0\n",
    "    for index in sheet_names:\n",
    "        seasonList = dict_df.get(index)\n",
    "        soucet += seasonList.loc[seasonList['PLAYER'] == playerName, 'TOV'].sum()\n",
    "        pocet += seasonList.loc[seasonList['PLAYER'] == playerName, 'GP'].sum()\n",
    "    prumer = soucet.item()/pocet.item()\n",
    "    print(f\"Průměrný počet TO za posledních 10 sezon {playerName} je {prumer}\")     \n",
    "avgTO_for_player_all_season('Michael Jordan')\n",
    "        "
   ]
  },
  {
   "cell_type": "markdown",
   "metadata": {},
   "source": [
    "# Kontrolní funkce pro avg_blocks()"
   ]
  },
  {
   "cell_type": "code",
   "execution_count": null,
   "metadata": {},
   "outputs": [],
   "source": [
    "def avgBLK_for_player_all_season(playerName):\n",
    "    soucet = 0\n",
    "    pocet = 0\n",
    "    for index in sheet_names:\n",
    "        seasonList = dict_df.get(index)\n",
    "        soucet += seasonList.loc[seasonList['PLAYER'] == playerName, 'BLK'].sum()\n",
    "        pocet += seasonList.loc[seasonList['PLAYER'] == playerName, 'GP'].sum()\n",
    "    prumer = soucet.item()/pocet.item()\n",
    "    print(f\"Průměrný počet TO za posledních 10 sezon {playerName} je {prumer}\")     \n",
    "avgBLK_for_player_all_season('Michael Jordan')\n",
    "        "
   ]
  },
  {
   "cell_type": "markdown",
   "metadata": {},
   "source": [
    "# Kontrolní fce pro funkci avg_person_fauls()"
   ]
  },
  {
   "cell_type": "code",
   "execution_count": null,
   "metadata": {},
   "outputs": [],
   "source": [
    "def avgPF_for_player_all_season(playerName):\n",
    "    soucet = 0\n",
    "    pocet = 0\n",
    "    for index in sheet_names:\n",
    "        seasonList = dict_df.get(index)\n",
    "        soucet += seasonList.loc[seasonList['PLAYER'] == playerName, 'PF'].sum()\n",
    "        pocet += seasonList.loc[seasonList['PLAYER'] == playerName, 'GP'].sum()\n",
    "    prumer = soucet.item()/pocet.item()\n",
    "    print(f\"Průměrný počet TO za posledních 10 sezon {playerName} je {prumer}\")     \n",
    "avgPF_for_player_all_season('Michael Jordan')\n",
    "        "
   ]
  },
  {
   "cell_type": "markdown",
   "metadata": {},
   "source": [
    "# Kontrolní funkce pro funkci avg_plus_minus()"
   ]
  },
  {
   "cell_type": "code",
   "execution_count": null,
   "metadata": {},
   "outputs": [],
   "source": [
    "def avgPlus_for_player_all_season(playerName):\n",
    "    soucet = 0\n",
    "    pocet = 0\n",
    "    for index in sheet_names:\n",
    "        seasonList = dict_df.get(index)\n",
    "        soucet += seasonList.loc[seasonList['PLAYER'] == playerName, '+/-'].sum()\n",
    "        pocet += seasonList.loc[seasonList['PLAYER'] == playerName, 'GP'].sum()\n",
    "    prumer = soucet.item()/pocet.item()\n",
    "    print(f\"Průměrný počet TO za posledních 10 sezon {playerName} je {prumer}\")     \n",
    "avgPlus_for_player_all_season('Michael Jordan')\n",
    "        "
   ]
  }
 ],
 "metadata": {
  "interpreter": {
   "hash": "03ad1569604374f1df5a5a0c8d9e4f8481a1ac307090d1ddc4e095804a353c0f"
  },
  "kernelspec": {
   "display_name": "Python 3.9.12 64-bit",
   "language": "python",
   "name": "python3"
  },
  "language_info": {
   "codemirror_mode": {
    "name": "ipython",
    "version": 3
   },
   "file_extension": ".py",
   "mimetype": "text/x-python",
   "name": "python",
   "nbconvert_exporter": "python",
   "pygments_lexer": "ipython3",
   "version": "3.9.12"
  },
  "orig_nbformat": 4
 },
 "nbformat": 4,
 "nbformat_minor": 2
}
