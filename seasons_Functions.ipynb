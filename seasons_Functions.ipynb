{
 "cells": [
  {
   "cell_type": "markdown",
   "metadata": {},
   "source": [
    "# Functions for all statistic informations of seasons "
   ]
  },
  {
   "cell_type": "markdown",
   "metadata": {},
   "source": [
    "### Average points of teams per season"
   ]
  },
  {
   "cell_type": "code",
   "execution_count": null,
   "metadata": {},
   "outputs": [],
   "source": [
    "def avg_Points():\n",
    "    %store -r allSeasons\n",
    "    %store -r df_allSeasons\n",
    "    %store -r sheet_names\n",
    "    %store -r dict_df\n",
    "    %store -r teamsAll\n",
    "    avg_PTS = []\n",
    "    pocetZapasu = 30 * 82\n",
    "    for season in sheet_names:        \n",
    "            seasonList = dict_df.get(season)\n",
    "            soucet = seasonList['PTS'].sum()            \n",
    "            prumer = round((soucet/pocetZapasu),2)\n",
    "            soucet = 0\n",
    "            avg_PTS.append(prumer)\n",
    "    df_allSeasons['AVGPTS'] = avg_PTS\n",
    "    print(df_allSeasons)\n",
    "avg_Points()  "
   ]
  },
  {
   "cell_type": "markdown",
   "metadata": {},
   "source": [
    "### Average players age per season"
   ]
  },
  {
   "cell_type": "code",
   "execution_count": null,
   "metadata": {},
   "outputs": [],
   "source": [
    "def avg_age():\n",
    "    %store -r allSeasons\n",
    "    %store -r df_allSeasons\n",
    "    %store -r sheet_names\n",
    "    %store -r dict_df\n",
    "    %store -r teamsAll\n",
    "    avg_age = []\n",
    "    for index in sheet_names:         \n",
    "        seasonList = dict_df.get(index)\n",
    "        celkovyVek = 0\n",
    "        pocetHracu = len(seasonList)\n",
    "        celkovyVek += seasonList['AGE'].sum();\n",
    "        prumer = round(celkovyVek/pocetHracu, 2)        \n",
    "        avg_age.append(prumer)\n",
    "    df_allSeasons['AGE'] = avg_age\n",
    "avg_age()\n",
    "print(df_allSeasons)\n",
    "    "
   ]
  },
  {
   "cell_type": "markdown",
   "metadata": {},
   "source": [
    "### Max points of teams per season"
   ]
  },
  {
   "cell_type": "code",
   "execution_count": null,
   "metadata": {},
   "outputs": [],
   "source": [
    "def max_points():\n",
    "    %store -r allSeasons\n",
    "    %store -r df_allSeasons\n",
    "    %store -r sheet_names\n",
    "    %store -r dict_df\n",
    "    %store -r teamsAll\n",
    "    max_PTS = []\n",
    "    for index in sheet_names:\n",
    "        seasonList = dict_df.get(index)\n",
    "        maxPTS = seasonList['PTS'].max()\n",
    "        max_PTS.append(maxPTS)\n",
    "    df_allSeasons['MAXPTS'] = max_PTS\n",
    "max_points()\n",
    "print(df_allSeasons)\n",
    "    "
   ]
  },
  {
   "cell_type": "markdown",
   "metadata": {},
   "source": [
    "### Max played minutes per season"
   ]
  },
  {
   "cell_type": "code",
   "execution_count": null,
   "metadata": {},
   "outputs": [],
   "source": [
    "def max_minutes():\n",
    "    %store -r allSeasons\n",
    "    %store -r df_allSeasons\n",
    "    %store -r sheet_names\n",
    "    %store -r dict_df\n",
    "    %store -r teamsAll\n",
    "    max_MIN = []\n",
    "    for index in sheet_names:\n",
    "        seasonList = dict_df.get(index)\n",
    "        maxMIN = seasonList['MIN'].max()\n",
    "        max_MIN.append(maxMIN)\n",
    "    df_allSeasons['MAXMIN'] = max_MIN\n",
    "max_minutes()\n",
    "print(df_allSeasons)"
   ]
  }
 ],
 "metadata": {
  "interpreter": {
   "hash": "27c22834e991dcba943847db9d8521cefeabfc49ed6a0d837e430468c77ddea6"
  },
  "kernelspec": {
   "display_name": "Python 3.9.12 64-bit",
   "language": "python",
   "name": "python3"
  },
  "language_info": {
   "codemirror_mode": {
    "name": "ipython",
    "version": 3
   },
   "file_extension": ".py",
   "mimetype": "text/x-python",
   "name": "python",
   "nbconvert_exporter": "python",
   "pygments_lexer": "ipython3",
   "version": "3.9.12"
  },
  "orig_nbformat": 4
 },
 "nbformat": 4,
 "nbformat_minor": 2
}
