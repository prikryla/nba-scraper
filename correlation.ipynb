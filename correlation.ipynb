{
 "cells": [
  {
   "cell_type": "markdown",
   "metadata": {},
   "source": [
    "# Correlation plots"
   ]
  },
  {
   "cell_type": "code",
   "execution_count": null,
   "metadata": {},
   "outputs": [],
   "source": [
    "%pip install seaborn"
   ]
  },
  {
   "cell_type": "markdown",
   "metadata": {},
   "source": [
    "### Creating of correlation with plot representation"
   ]
  },
  {
   "cell_type": "code",
   "execution_count": null,
   "metadata": {},
   "outputs": [],
   "source": [
    "import pandas as pd\n",
    "import seaborn as sns\n",
    "from matplotlib import pyplot as plt\n",
    "\n",
    "plt = plt.figure()\n",
    "df = pd.read_excel('excelFiles/stats.xlsx', sheet_name=\"2020-21\")\n",
    "\n",
    "sns.set(rc={'figure.figsize':(15,10)})\n",
    "sns.regplot(x=df[\"GP\"], y=df['PTS']).set(title=\"Graf korelace mezi odehranými zápasy a body hráčů v sezoně 2020-2021\")\n",
    "plt.savefig(\"plots/correlation/GP x PTS.png\")"
   ]
  },
  {
   "cell_type": "markdown",
   "metadata": {},
   "source": [
    "### Write all correlation plots into own .xlsx file"
   ]
  },
  {
   "cell_type": "code",
   "execution_count": null,
   "metadata": {},
   "outputs": [],
   "source": [
    "import openpyxl\n",
    "\n",
    "wrkb = openpyxl.Workbook()\n",
    "  \n",
    "ws = wrkb.worksheets[0]\n",
    "img = openpyxl.drawing.image.Image('plots/correlation/GP x FGM.png')\n",
    "img2 = openpyxl.drawing.image.Image('plots/correlation/GP x MIN.png')\n",
    "img3 = openpyxl.drawing.image.Image('plots/correlation/GP x PF.png')\n",
    "img4 = openpyxl.drawing.image.Image('plots/correlation/GP x PTS.png')\n",
    "img5 = openpyxl.drawing.image.Image('plots/correlation/MIN x PF.png')\n",
    "img6 = openpyxl.drawing.image.Image('plots/correlation/MIN x PTS.png')\n",
    "img7 = openpyxl.drawing.image.Image('plots/correlation/PTS x MIN.png')\n",
    "\n",
    "img.anchor = 'A1'\n",
    "img2.anchor = 'R1'\n",
    "img3.anchor = 'A40'\n",
    "img4.anchor = 'R40'\n",
    "img5.anchor = 'A80'\n",
    "img6.anchor = 'R80'\n",
    "img7.anchor = 'A120'\n",
    "\n",
    "ws.add_image(img)\n",
    "ws.add_image(img2)\n",
    "ws.add_image(img3)\n",
    "ws.add_image(img4)\n",
    "ws.add_image(img5)\n",
    "ws.add_image(img6)\n",
    "ws.add_image(img7)\n",
    "wrkb.save('excelFiles/plots_correlation.xlsx')\n",
    "print('All correlation plots were saved')"
   ]
  }
 ],
 "metadata": {
  "interpreter": {
   "hash": "27c22834e991dcba943847db9d8521cefeabfc49ed6a0d837e430468c77ddea6"
  },
  "kernelspec": {
   "display_name": "Python 3.9.12 64-bit",
   "language": "python",
   "name": "python3"
  },
  "language_info": {
   "codemirror_mode": {
    "name": "ipython",
    "version": 3
   },
   "file_extension": ".py",
   "mimetype": "text/x-python",
   "name": "python",
   "nbconvert_exporter": "python",
   "pygments_lexer": "ipython3",
   "version": "3.9.12"
  },
  "orig_nbformat": 4
 },
 "nbformat": 4,
 "nbformat_minor": 2
}
