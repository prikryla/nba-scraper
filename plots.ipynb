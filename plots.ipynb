{
 "cells": [
  {
   "cell_type": "markdown",
   "metadata": {},
   "source": [
    "# Plots from scraped data"
   ]
  },
  {
   "cell_type": "code",
   "execution_count": null,
   "metadata": {},
   "outputs": [],
   "source": [
    "%pip install matplotlib\n",
    "%pip install openpyxl"
   ]
  },
  {
   "cell_type": "markdown",
   "metadata": {},
   "source": [
    "### Plot for average points per player for all seasons"
   ]
  },
  {
   "cell_type": "code",
   "execution_count": null,
   "metadata": {},
   "outputs": [],
   "source": [
    "import pandas as pd\n",
    "import openpyxl\n",
    "import matplotlib.pyplot as plt\n",
    "from openpyxl import load_workbook\n",
    "%matplotlib inline\n",
    "\n",
    "dict_df = pd.read_excel('excelFiles/groupByTeams.xlsx', sheet_name=None)\n",
    "wb = openpyxl.load_workbook(\"excelFiles/groupByTeams.xlsx\")\n",
    "sheet_names = (wb.sheetnames)\n",
    "dfA = pd.DataFrame(columns=['SEASON', 'PTS'])\n",
    "seasons = []\n",
    "games = []\n",
    "for season in sheet_names:\n",
    "    seasonList = dict_df.get(season)\n",
    "    gp = seasonList.loc[seasonList['TEAM'] == 'GSW','PTS']\n",
    "    games.append(gp.values[0])\n",
    "    seasons.append(season)\n",
    "\n",
    "dataF = pd.DataFrame(seasons, columns=['SEASON'])\n",
    "dataF['PTS'] = games\n",
    "dataF['SEASON'] = seasons\n",
    "fig = dataF.plot(x='SEASON', y = 'PTS', figsize=(25,10), title=\"Průměrný počet bodů na hráče v průběhu 25 sezon týmu Golden State Warriors\").get_figure()\n",
    "plt.xticks(range(0,len(seasons)), seasons)\n",
    "fig.savefig('plots/avgPoints.png')"
   ]
  },
  {
   "cell_type": "markdown",
   "metadata": {},
   "source": [
    "### Plot for average number of wins of all teams for all seasons"
   ]
  },
  {
   "cell_type": "code",
   "execution_count": null,
   "metadata": {},
   "outputs": [],
   "source": [
    "import pandas as pd\n",
    "import openpyxl\n",
    "import matplotlib.pyplot as plt\n",
    "from openpyxl import load_workbook\n",
    "%matplotlib inline\n",
    "%store -r teamsAll\n",
    "\n",
    "dict_df = pd.read_excel('excelFiles/teams.xlsx')\n",
    "wb = openpyxl.load_workbook(\"excelFiles/teams.xlsx\")\n",
    "sheet_names = (wb.sheetnames)\n",
    "dfA = pd.DataFrame(columns=['TEAM', 'W'])\n",
    "teams = []\n",
    "wins = []\n",
    "for team in teamsAll:\n",
    "    w = seasonList[seasonList['TEAM'] == team]['W']\n",
    "    wins.append(w.values[0])\n",
    "    teams.append(team)\n",
    "    \n",
    "dataF = pd.DataFrame(teams, columns=['TEAMS'])\n",
    "dataF['WINS'] = wins\n",
    "dataF['TEAMS'] = teams\n",
    "dataF.sort_values(by=['WINS'], ascending=False, inplace=True)\n",
    "fig = dataF.plot(kind='bar', x='TEAMS', y = 'WINS', figsize=(20,10), title=\"Průměrný počet výher týmů za 25 sezon\").get_figure()\n",
    "plt.xticks(range(0,len(teams)), teams)\n",
    "fig.savefig('plots/allTeamPoints.png')"
   ]
  },
  {
   "cell_type": "markdown",
   "metadata": {},
   "source": [
    "### Point development of player by all seasons"
   ]
  },
  {
   "cell_type": "code",
   "execution_count": null,
   "metadata": {},
   "outputs": [],
   "source": [
    "import pandas as pd\n",
    "import openpyxl\n",
    "import matplotlib.pyplot as plt\n",
    "from openpyxl import load_workbook\n",
    "%matplotlib inline\n",
    "\n",
    "def points_by_season(player): \n",
    "    dict_df = pd.read_excel('excelFiles/stats.xlsx', sheet_name=None)\n",
    "    wb = openpyxl.load_workbook(\"excelFiles/stats.xlsx\")\n",
    "    sheet_names = (wb.sheetnames)\n",
    "    dfA = pd.DataFrame(columns=['SEASON', 'PTS'])\n",
    "    seasons = []\n",
    "    points = []\n",
    "    for season in sheet_names:\n",
    "        seasonList = dict_df.get(season)\n",
    "        pts = seasonList.loc[seasonList['PLAYER'] == player]['PTS']\n",
    "        if pts.empty:\n",
    "            points.append('0')\n",
    "        else:    \n",
    "            points.append(pts.values[0])\n",
    "        seasons.append(season)\n",
    "    dataF = pd.DataFrame(seasons, columns=['SEASON'])\n",
    "    dataF['PTS'] = points\n",
    "    dataF['SEASON'] = seasons\n",
    "    dataF['PTS'] = dataF['PTS'].astype(int)\n",
    "\n",
    "    fig = dataF.plot(x='SEASON', y = 'PTS', figsize=(25,10), title=f\"Počet bodů v sezoně hráče {player} od sezony 1996-97\").get_figure()\n",
    "    plt.xticks(range(0,len(seasons)), seasons)\n",
    "    fig.savefig(f'plots/points_{player}.png')\n",
    "points_by_season(\"Giannis Antetokounmpo\")"
   ]
  },
  {
   "cell_type": "markdown",
   "metadata": {},
   "source": [
    "### Write all plots into own .xlsx file"
   ]
  },
  {
   "cell_type": "code",
   "execution_count": null,
   "metadata": {},
   "outputs": [],
   "source": [
    "import openpyxl\n",
    "\n",
    "wrkb = openpyxl.Workbook()\n",
    "  \n",
    "ws = wrkb.worksheets[0]\n",
    "img = openpyxl.drawing.image.Image('plots/avgPoints.png')\n",
    "img2 = openpyxl.drawing.image.Image('plots/allTeamPoints.png')\n",
    "\n",
    "img.anchor = 'A1'\n",
    "img2.anchor = 'A40'\n",
    "ws.add_image(img)\n",
    "ws.add_image(img2)\n",
    "wrkb.save('excelFiles/plots.xlsx')\n",
    "print('All plots saved')"
   ]
  }
 ],
 "metadata": {
  "interpreter": {
   "hash": "27c22834e991dcba943847db9d8521cefeabfc49ed6a0d837e430468c77ddea6"
  },
  "kernelspec": {
   "display_name": "Python 3.9.12 64-bit",
   "language": "python",
   "name": "python3"
  },
  "language_info": {
   "codemirror_mode": {
    "name": "ipython",
    "version": 3
   },
   "file_extension": ".py",
   "mimetype": "text/x-python",
   "name": "python",
   "nbconvert_exporter": "python",
   "pygments_lexer": "ipython3",
   "version": "3.9.12"
  },
  "orig_nbformat": 4
 },
 "nbformat": 4,
 "nbformat_minor": 2
}
