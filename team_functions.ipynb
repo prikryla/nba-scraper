{
 "cells": [
  {
   "cell_type": "markdown",
   "metadata": {},
   "source": [
    "# Functions for all statistic informations of teams \n"
   ]
  },
  {
   "cell_type": "markdown",
   "metadata": {},
   "source": [
    "### Number of wins / loses per teams for all seasons"
   ]
  },
  {
   "cell_type": "code",
   "execution_count": null,
   "metadata": {},
   "outputs": [],
   "source": [
    "import pandas as pd \n",
    "\n",
    "def W_L_matches(): \n",
    "    %store -r teamsAll\n",
    "    %store -r df_teams\n",
    "    %store -r sheet_names\n",
    "    %store -r dict_df  \n",
    "    stats_W = []\n",
    "    stats_L = []\n",
    "    stats_GP = []\n",
    "    for team in teamsAll:        \n",
    "        pocetWW = 0\n",
    "        pocetLL = 0\n",
    "        for season in sheet_names:               \n",
    "            seasonList = dict_df.get(season)                   \n",
    "            pocetW = seasonList.loc[seasonList['TEAM'] == team, 'W'].max()    \n",
    "            pocetL = seasonList.loc[seasonList['TEAM'] == team, 'L'].max()  \n",
    "            if (pd.isna(pocetW)):\n",
    "                pocetW = 0\n",
    "            if (pd.isna(pocetL)):\n",
    "                pocetL = 0\n",
    "            pocetWW += pocetW\n",
    "            pocetLL += pocetL              \n",
    "        stats_W.append(pocetWW)\n",
    "        stats_L.append(pocetLL)  \n",
    "        stats_GP.append(pocetWW+pocetLL)  \n",
    "    df_teams['GP'] = stats_GP \n",
    "    df_teams['W'] = stats_W\n",
    "    df_teams['L'] = stats_L\n",
    "W_L_matches()\n",
    "print(df_teams)  \n",
    "    "
   ]
  },
  {
   "cell_type": "markdown",
   "metadata": {},
   "source": [
    "### Count of all scored points per team for all seasons "
   ]
  },
  {
   "cell_type": "code",
   "execution_count": null,
   "metadata": {},
   "outputs": [],
   "source": [
    "def sum_team_points_all_seasons():\n",
    "    stats_PTS = []\n",
    "    soucet = 0    \n",
    "    for team in teamsAll: \n",
    "         soucet = 0  \n",
    "         for index in sheet_names:   \n",
    "            seasonList = dict_df.get(index)                 \n",
    "            soucet += seasonList[seasonList['TEAM']==team].sum()['PTS']\n",
    "         soucet = round(soucet)\n",
    "         stats_PTS.append(soucet)\n",
    "         \n",
    "   \n",
    "    df_teams['PTS'] = stats_PTS\n",
    "    \n",
    "sum_team_points_all_seasons()\n",
    "print(df_teams)"
   ]
  },
  {
   "cell_type": "markdown",
   "metadata": {},
   "source": [
    "### Average sum of points per team for all seasons (betting potencional)"
   ]
  },
  {
   "cell_type": "code",
   "execution_count": null,
   "metadata": {},
   "outputs": [],
   "source": [
    "def avg_points():\n",
    "    stats_PTS = []\n",
    "    stats_GP = []\n",
    "    stats_AVGPTS = []\n",
    "    prumer = 0\n",
    "    for index in df_teams['PTS']:\n",
    "        stats_PTS.append(index)\n",
    "    for index in df_teams['GP']:\n",
    "        stats_GP.append(index)\n",
    "    length = range(len(stats_PTS))   \n",
    "    for i in length:\n",
    "        prumer = stats_PTS[i]/stats_GP[i]\n",
    "        prumer = round(prumer,2)      \n",
    "            \n",
    "        stats_AVGPTS.append(prumer)  \n",
    "    df_teams['AVGPTS'] = stats_AVGPTS        \n",
    "avg_points()\n",
    "print(df_teams)"
   ]
  },
  {
   "cell_type": "markdown",
   "metadata": {},
   "source": [
    "### Write whole DataFrame into .xlsx file"
   ]
  },
  {
   "cell_type": "code",
   "execution_count": null,
   "metadata": {},
   "outputs": [],
   "source": [
    "import pandas as pd\n",
    "\n",
    "df_teams.sort_values(by=['GP'], ascending=False, inplace=True)\n",
    "\n",
    "with pd.ExcelWriter('excelFiles/teams.xlsx', engine='openpyxl', mode='w', if_sheet_exists='overlay') as writer: \n",
    "    df_teams.to_excel(writer, sheet_name=\"all_teams\", index=False)\n",
    "print('Data written into .xlsx file')"
   ]
  },
  {
   "cell_type": "markdown",
   "metadata": {},
   "source": [
    "### Group by all team statistics for all season"
   ]
  },
  {
   "cell_type": "code",
   "execution_count": null,
   "metadata": {},
   "outputs": [],
   "source": [
    "import pandas as pd\n",
    "\n",
    "def zkousim_groupby():\n",
    "    %store -r sheet_names\n",
    "    %store -r dict_df\n",
    "    for season in sheet_names:\n",
    "        seasonList = dict_df.get(season)\n",
    "        dff = seasonList.groupby('TEAM').mean().round(2)\n",
    "        with pd.ExcelWriter('excelFiles/groupByTeams.xlsx', engine='openpyxl', mode='a', if_sheet_exists='replace') as writer:\n",
    "            dff.to_excel(writer, sheet_name=season, index=False)\n",
    "zkousim_groupby()\n",
    "print('Data written into .xlsx file')"
   ]
  }
 ],
 "metadata": {
  "interpreter": {
   "hash": "27c22834e991dcba943847db9d8521cefeabfc49ed6a0d837e430468c77ddea6"
  },
  "kernelspec": {
   "display_name": "Python 3.9.12 64-bit",
   "language": "python",
   "name": "python3"
  },
  "language_info": {
   "codemirror_mode": {
    "name": "ipython",
    "version": 3
   },
   "file_extension": ".py",
   "mimetype": "text/x-python",
   "name": "python",
   "nbconvert_exporter": "python",
   "pygments_lexer": "ipython3",
   "version": "3.9.12"
  },
  "orig_nbformat": 4
 },
 "nbformat": 4,
 "nbformat_minor": 2
}
