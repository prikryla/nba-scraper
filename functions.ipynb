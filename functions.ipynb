{
 "cells": [
  {
   "cell_type": "markdown",
   "metadata": {},
   "source": [
    "# Functions for all statistic informations of players"
   ]
  },
  {
   "cell_type": "markdown",
   "metadata": {},
   "source": [
    "### Function for counting of average win / lose of every player for 25 seasons"
   ]
  },
  {
   "cell_type": "code",
   "execution_count": null,
   "metadata": {},
   "outputs": [],
   "source": [
    "from openpyxl import load_workbook\n",
    "\n",
    "def number_W_L_all_time():\n",
    "    %store -r teamsAll\n",
    "    %store -r df_teams\n",
    "    %store -r sheet_names\n",
    "    %store -r dict_df\n",
    "    %store -r allPlayers\n",
    "    %store -r df_allPlayers\n",
    "    \n",
    "    stats_W = []\n",
    "    stats_L = []   \n",
    "    for player in allPlayers:\n",
    "        vyher = 0\n",
    "        pocetZapasu = 0 \n",
    "        for season in sheet_names:\n",
    "            seasonList = dict_df.get(season)\n",
    "            vyher += seasonList.loc[seasonList['PLAYER'] == player, 'W'].sum()\n",
    "            pocetZapasu += seasonList.loc[seasonList['PLAYER'] == player, 'GP'].sum()\n",
    "        vyher = round((vyher/pocetZapasu)*100,2)\n",
    "        proher = round(100 - vyher,2)\n",
    "        stats_W.append(vyher)\n",
    "        stats_L.append(proher)\n",
    "    df_allPlayers['W'] = stats_W\n",
    "    df_allPlayers['L'] = stats_L\n",
    "number_W_L_all_time()\n",
    "print(df_allPlayers)"
   ]
  },
  {
   "cell_type": "markdown",
   "metadata": {},
   "source": [
    "### Function for counting of average field goals of every player for 25 seasons "
   ]
  },
  {
   "cell_type": "code",
   "execution_count": null,
   "metadata": {},
   "outputs": [],
   "source": [
    "def succ_field_goals():  \n",
    "    stats_USP = [] \n",
    "    for player in allPlayers:\n",
    "        pocetUspesnych = 0\n",
    "        celkovyPocet = 0\n",
    "        for season in sheet_names:\n",
    "            seasonList = dict_df.get(season)\n",
    "            celkovyPocet += seasonList.loc[seasonList['PLAYER'] == player, 'FGA'].sum()\n",
    "            pocetUspesnych += seasonList.loc[seasonList['PLAYER'] == player, 'FGM'].sum()\n",
    "        if (celkovyPocet > 0):\n",
    "            uspesnost = round((pocetUspesnych/celkovyPocet)*100,2)\n",
    "            stats_USP.append(uspesnost)\n",
    "        else: \n",
    "            stats_USP.append(0)        \n",
    "    df_allPlayers['FGM'] = stats_USP\n",
    "succ_field_goals()\n",
    "print(df_allPlayers)"
   ]
  },
  {
   "cell_type": "markdown",
   "metadata": {},
   "source": [
    "### Function for counting of average of 3 point shoots of every player for 25 seasons"
   ]
  },
  {
   "cell_type": "code",
   "execution_count": null,
   "metadata": {},
   "outputs": [],
   "source": [
    "def succ_three_goals():  \n",
    "    stats_USP = []  \n",
    "    for player in allPlayers:\n",
    "        celkovyPocet = 0\n",
    "        pocetUspesnych = 0\n",
    "        for season in sheet_names:\n",
    "            seasonList = dict_df.get(season)\n",
    "            celkovyPocet += seasonList.loc[seasonList['PLAYER'] == player, '3PA'].sum()\n",
    "            pocetUspesnych += seasonList.loc[seasonList['PLAYER'] == player, '3PM'].sum()\n",
    "        if (celkovyPocet > 0 ):            \n",
    "            uspesnost = round((pocetUspesnych/celkovyPocet)*100,2)\n",
    "            stats_USP.append(uspesnost)\n",
    "        else:\n",
    "            stats_USP.append(0)\n",
    "    df_allPlayers['3PM'] = stats_USP\n",
    "succ_three_goals()\n",
    "print(df_allPlayers)\n",
    "    "
   ]
  },
  {
   "cell_type": "markdown",
   "metadata": {},
   "source": [
    "### Function for counting of average free throws of every player for 25 seasons"
   ]
  },
  {
   "cell_type": "code",
   "execution_count": null,
   "metadata": {},
   "outputs": [],
   "source": [
    "def succ_free_throws(): \n",
    "    stats_USP = []  \n",
    "    for player in allPlayers:\n",
    "        celkovyPocet = 0\n",
    "        pocetUspesnych = 0\n",
    "        for season in sheet_names:\n",
    "            seasonList = dict_df.get(season)\n",
    "            celkovyPocet += seasonList.loc[seasonList['PLAYER'] == player, 'FTA'].sum()\n",
    "            pocetUspesnych += seasonList.loc[seasonList['PLAYER'] == player, 'FTM'].sum()\n",
    "        if (celkovyPocet > 0):\n",
    "            uspesnost = round((pocetUspesnych/celkovyPocet)*100,2)\n",
    "            stats_USP.append(uspesnost)\n",
    "        else: \n",
    "            stats_USP.append(0)  \n",
    "    df_allPlayers['FTM'] = stats_USP      \n",
    "succ_free_throws()\n",
    "print(df_allPlayers)\n"
   ]
  },
  {
   "cell_type": "markdown",
   "metadata": {},
   "source": [
    "### Function for counting of average assists of every player for 25 seasons"
   ]
  },
  {
   "cell_type": "code",
   "execution_count": null,
   "metadata": {},
   "outputs": [],
   "source": [
    "def avg_assists(): \n",
    "    stats_AST = [] \n",
    "    for player in allPlayers:\n",
    "        pocetAST = 0\n",
    "        pocetZapasu = 0\n",
    "        for season in sheet_names:\n",
    "            seasonList = dict_df.get(season)\n",
    "            pocetAST += seasonList.loc[seasonList['PLAYER'] == player, 'AST'].sum()\n",
    "            pocetZapasu += seasonList.loc[seasonList['PLAYER'] == player, 'GP'].sum()\n",
    "        if (pocetZapasu > 0 ):\n",
    "            prumerAST = round((pocetAST/pocetZapasu),2)\n",
    "            stats_AST.append(prumerAST)\n",
    "        else: \n",
    "            stats_AST.append(0)\n",
    "    df_allPlayers['AST'] = stats_AST\n",
    "avg_assists()\n",
    "print(df_allPlayers)   "
   ]
  },
  {
   "cell_type": "markdown",
   "metadata": {},
   "source": [
    "### Function for counting of average rebounds of every player for 25 seasons"
   ]
  },
  {
   "cell_type": "code",
   "execution_count": null,
   "metadata": {},
   "outputs": [],
   "source": [
    "def avg_rebounds():\n",
    "    stats_REB = []\n",
    "    stats_OREB = []\n",
    "    stats_DREB = []\n",
    "    for player in allPlayers:\n",
    "        pocetDoskoku = 0\n",
    "        pocetZapasu = 0\n",
    "        pocetOfDoskoku = 0\n",
    "        for season in sheet_names:\n",
    "            seasonList = dict_df.get(season)\n",
    "            pocetDoskoku += seasonList.loc[seasonList['PLAYER'] == player, 'REB'].sum()\n",
    "            pocetOfDoskoku += seasonList.loc[seasonList['PLAYER'] == player, 'OREB'].sum()\n",
    "            pocetZapasu += seasonList.loc[seasonList['PLAYER'] == player, 'GP'].sum()\n",
    "        if (pocetZapasu > 0):\n",
    "            prumer = round((pocetDoskoku/pocetZapasu),2)\n",
    "            prumerOf = round((pocetOfDoskoku/pocetZapasu),2)\n",
    "            stats_REB.append(prumer)\n",
    "            stats_OREB.append(prumerOf)\n",
    "            stats_DREB.append(prumer-prumerOf)\n",
    "        else:\n",
    "            stats_REB.append(0)\n",
    "            stats_OREB.append(0)\n",
    "            stats_DREB.append(0)            \n",
    "    df_allPlayers['REB'] = stats_REB\n",
    "    df_allPlayers['OREB'] = stats_OREB\n",
    "    df_allPlayers['DREB'] = stats_DREB\n",
    "avg_rebounds()\n",
    "print(df_allPlayers)\n",
    "            "
   ]
  },
  {
   "cell_type": "markdown",
   "metadata": {},
   "source": [
    "### Function for counting of average points of every player for 25 seasons"
   ]
  },
  {
   "cell_type": "code",
   "execution_count": null,
   "metadata": {},
   "outputs": [],
   "source": [
    "def sum_point_all_players():\n",
    "    stats_POINTS = []   \n",
    "    for player in allPlayers:\n",
    "        soucet = 0\n",
    "        pocet = 0\n",
    "        for season in sheet_names:\n",
    "            seasonList = dict_df.get(season)\n",
    "            soucet += seasonList.loc[seasonList['PLAYER'] == player, 'PTS'].sum()\n",
    "            pocet += seasonList.loc[seasonList['PLAYER'] == player, 'GP'].sum()\n",
    "        if (pocet > 0): \n",
    "            prumer = soucet.item()/pocet.item()\n",
    "            prumer = round(prumer,2)\n",
    "            stats_POINTS.append(prumer)\n",
    "        else:\n",
    "            stats_POINTS.append(0)\n",
    "    df_allPlayers['PTS']= stats_POINTS\n",
    "sum_point_all_players()\n",
    "print(df_allPlayers)\n",
    "            "
   ]
  },
  {
   "cell_type": "markdown",
   "metadata": {},
   "source": [
    "### Function for counting of average steals of every player for 25 seasons"
   ]
  },
  {
   "cell_type": "code",
   "execution_count": null,
   "metadata": {},
   "outputs": [],
   "source": [
    "def avg_steals():\n",
    "    stats_STL = []\n",
    "    for player in allPlayers:\n",
    "        soucet = 0\n",
    "        pocet = 0\n",
    "        for season in sheet_names:\n",
    "            seasonList = dict_df.get(season)\n",
    "            soucet += seasonList.loc[seasonList['PLAYER'] == player, 'STL'].sum()\n",
    "            pocet += seasonList.loc[seasonList['PLAYER'] == player, 'GP'].sum()\n",
    "        if (pocet > 0):\n",
    "            prumer = round((soucet/pocet),2)\n",
    "            stats_STL.append(prumer)\n",
    "        else:\n",
    "            stats_STL.append(0)\n",
    "    df_allPlayers['STL'] = stats_STL\n",
    "avg_steals()\n",
    "print(df_allPlayers)"
   ]
  },
  {
   "cell_type": "markdown",
   "metadata": {},
   "source": [
    "### Function for counting of average turnovers of every player for 25 seasons"
   ]
  },
  {
   "cell_type": "code",
   "execution_count": null,
   "metadata": {},
   "outputs": [],
   "source": [
    "def avg_turnovers():\n",
    "    stats_TOV = []\n",
    "    for player in allPlayers:\n",
    "        soucet = 0\n",
    "        pocet = 0\n",
    "        for season in sheet_names:\n",
    "            seasonList = dict_df.get(season)\n",
    "            soucet += seasonList.loc[seasonList['PLAYER'] == player, 'TOV'].sum()\n",
    "            pocet += seasonList.loc[seasonList['PLAYER'] == player, 'GP'].sum()\n",
    "        if (pocet > 0):\n",
    "            prumer = round((soucet/pocet),2)\n",
    "            stats_TOV.append(prumer)\n",
    "        else:\n",
    "            stats_TOV.append(0)\n",
    "    df_allPlayers['TOV'] = stats_TOV\n",
    "avg_turnovers()\n",
    "print(df_allPlayers)\n",
    "            "
   ]
  },
  {
   "cell_type": "markdown",
   "metadata": {},
   "source": [
    "### Function for counting of average blocks of every player for 25 seasons"
   ]
  },
  {
   "cell_type": "code",
   "execution_count": null,
   "metadata": {},
   "outputs": [],
   "source": [
    "def avg_blocks():\n",
    "    stats_BLK = []\n",
    "    for player in allPlayers:\n",
    "        soucet = 0\n",
    "        pocet = 0\n",
    "        for season in sheet_names:\n",
    "            seasonList = dict_df.get(season)\n",
    "            soucet += seasonList.loc[seasonList['PLAYER'] == player, 'BLK'].sum()\n",
    "            pocet += seasonList.loc[seasonList['PLAYER'] == player, 'GP'].sum()\n",
    "        if (pocet > 0):\n",
    "            prumer = round((soucet/pocet),2)\n",
    "            stats_BLK.append(prumer)\n",
    "        else:\n",
    "            stats_BLK.append(0)\n",
    "    df_allPlayers['BLK'] = stats_BLK\n",
    "avg_blocks()\n",
    "print(df_allPlayers)\n",
    "            "
   ]
  },
  {
   "cell_type": "markdown",
   "metadata": {},
   "source": [
    "### Function for counting of average personal fouls of every player for 25 seasons"
   ]
  },
  {
   "cell_type": "code",
   "execution_count": null,
   "metadata": {},
   "outputs": [],
   "source": [
    "def avg_person_fauls():\n",
    "    stats_PF = []\n",
    "    for player in allPlayers:\n",
    "        soucet = 0\n",
    "        pocet = 0\n",
    "        for season in sheet_names:\n",
    "            seasonList = dict_df.get(season)\n",
    "            soucet += seasonList.loc[seasonList['PLAYER'] == player, 'PF'].sum()\n",
    "            pocet += seasonList.loc[seasonList['PLAYER'] == player, 'GP'].sum()\n",
    "        if (pocet > 0):\n",
    "            prumer = round((soucet/pocet),2)\n",
    "            stats_PF.append(prumer)\n",
    "        else:\n",
    "            stats_PF.append(0)\n",
    "    df_allPlayers['PF'] = stats_PF\n",
    "avg_person_fauls()\n",
    "print(df_allPlayers)\n",
    "            \n",
    "    "
   ]
  },
  {
   "cell_type": "markdown",
   "metadata": {},
   "source": [
    "### Function for counting of average +/- of every player for 25 seasons"
   ]
  },
  {
   "cell_type": "code",
   "execution_count": null,
   "metadata": {},
   "outputs": [],
   "source": [
    "def avg_plus_minus():\n",
    "    stats_PLMIN = []\n",
    "    for player in allPlayers:\n",
    "        soucet = 0\n",
    "        pocet = 0\n",
    "        for season in sheet_names:\n",
    "            seasonList = dict_df.get(season)\n",
    "            soucet += seasonList.loc[seasonList['PLAYER'] == player, '+/-'].sum()\n",
    "            pocet += seasonList.loc[seasonList['PLAYER'] == player, 'GP'].sum()\n",
    "        if (pocet > 0):\n",
    "            prumer = round((soucet/pocet),2)\n",
    "            stats_PLMIN.append(prumer)\n",
    "        else:\n",
    "            stats_PLMIN.append(0)\n",
    "    df_allPlayers['+/-'] = stats_PLMIN\n",
    "avg_plus_minus()\n",
    "print(df_allPlayers) "
   ]
  },
  {
   "cell_type": "markdown",
   "metadata": {},
   "source": [
    "### Function for counting of the ratio of the player's time played to the total time (%) of every player for 25 seasons"
   ]
  },
  {
   "cell_type": "code",
   "execution_count": null,
   "metadata": {},
   "outputs": [],
   "source": [
    "def return_max_GP():\n",
    "    seasonGamesCount = 0\n",
    "    for season in sheet_names:\n",
    "        seasonList = dict_df.get(season)    \n",
    "        seasonGamesCount += seasonList['GP'].max()\n",
    "    return seasonGamesCount      \n",
    "returnIS = return_max_GP()\n",
    "    \n",
    "def minutes_played():\n",
    "    stats_MIN = []\n",
    "    for player in allPlayers:\n",
    "        pocetMinut = 0 \n",
    "        maxPocet = return_max_GP()  \n",
    "        maxOdehPocet = maxPocet * 48\n",
    "        for season in sheet_names:\n",
    "            seasonList = dict_df.get(season)\n",
    "            pocetMinut += seasonList.loc[seasonList['PLAYER'] == player, 'MIN'].sum()    \n",
    "        min = round((pocetMinut/maxOdehPocet),2)     \n",
    "          \n",
    "        stats_MIN.append(min)    \n",
    "    df_allPlayers['MIN'] = stats_MIN\n",
    "minutes_played()\n",
    "print(df_allPlayers)\n",
    "    "
   ]
  },
  {
   "cell_type": "markdown",
   "metadata": {},
   "source": [
    "### Write whole DataFrame into .xlsx file"
   ]
  },
  {
   "cell_type": "code",
   "execution_count": null,
   "metadata": {},
   "outputs": [],
   "source": [
    "import pandas as pd\n",
    "\n",
    "with pd.ExcelWriter('excelFiles/stats.xlsx', engine='openpyxl', mode='a', if_sheet_exists='overlay') as writer: \n",
    "    df_allPlayers.to_excel(writer, sheet_name=\"all_players\", index=False)\n",
    "print('Written into .xlsx') "
   ]
  }
 ],
 "metadata": {
  "interpreter": {
   "hash": "27c22834e991dcba943847db9d8521cefeabfc49ed6a0d837e430468c77ddea6"
  },
  "kernelspec": {
   "display_name": "Python 3.9.12 64-bit",
   "language": "python",
   "name": "python3"
  },
  "language_info": {
   "codemirror_mode": {
    "name": "ipython",
    "version": 3
   },
   "file_extension": ".py",
   "mimetype": "text/x-python",
   "name": "python",
   "nbconvert_exporter": "python",
   "pygments_lexer": "ipython3",
   "version": "3.9.12"
  },
  "orig_nbformat": 4
 },
 "nbformat": 4,
 "nbformat_minor": 2
}
