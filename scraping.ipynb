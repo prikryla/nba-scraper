{
 "cells": [
  {
   "cell_type": "markdown",
   "metadata": {},
   "source": [
    "# Web Scraper"
   ]
  },
  {
   "cell_type": "markdown",
   "metadata": {},
   "source": [
    "##### Install libraries before your work"
   ]
  },
  {
   "cell_type": "markdown",
   "metadata": {},
   "source": [
    "%pip install beautifulsoup4\n",
    "%pip install lxml\n",
    "%pip install selenium==2.48.0\n",
    "%pip install pandas\n",
    "%pip install html5lib\n",
    "%pip install openpyxl\n",
    "%pip install numpy"
   ]
  },
  {
   "cell_type": "markdown",
   "metadata": {},
   "source": [
    "### Scraper of NBA statistics for 25 seasons"
   ]
  },
  {
   "cell_type": "code",
   "execution_count": null,
   "metadata": {},
   "outputs": [],
   "source": [
    "import pandas as pd\n",
    "from bs4 import BeautifulSoup\n",
    "from selenium import webdriver\n",
    "from selenium.webdriver.support.ui import Select\n",
    "from selenium.webdriver.common.by import By\n",
    "from selenium.webdriver.support.ui import WebDriverWait\n",
    "from selenium.webdriver.support import expected_conditions as EC\n",
    "from selenium.common.exceptions import NoSuchElementException\n",
    "from selenium.common.exceptions import ElementNotVisibleException\n",
    "\n",
    "od = 1996\n",
    "do = 97\n",
    "\n",
    "writer = pd.ExcelWriter('excelFiles/stats.xlsx')\n",
    "\n",
    "ListDo = ['00', '01', '02', '03', '04', '05', '06', '07', '08', '09']\n",
    "\n",
    "while do != 22:\n",
    "    season = f\"{od}-{do}\"\n",
    "    url = f\"https://www.nba.com/stats/players/traditional/?sort=PTS&dir=-1&Season={season}&SeasonType=Regular%20Season&PerMode=Totals\"\n",
    "\n",
    "    driver = webdriver.Chrome() \n",
    "    driver.get(url)\n",
    "    \n",
    "    try: \n",
    "        element = Select(WebDriverWait(driver, 15).until(\n",
    "            EC.presence_of_element_located((By.XPATH, '/html/body/main/div/div/div[2]/div/div/nba-stat-table/div[1]/div/div/select'))\n",
    "        ))\n",
    "    except ElementNotVisibleException:\n",
    "        print(\"The selected element is not visible! Try it again.\")\n",
    "    except NoSuchElementException:\n",
    "        print(\"The selected element was not found.\")\n",
    "    except:\n",
    "        print(\"The script was killed by unexpected error.\")\n",
    "        raise\n",
    "\n",
    "    element.select_by_visible_text('All')\n",
    "    html = driver.page_source\n",
    "    \n",
    "    soup = BeautifulSoup(html, \"html.parser\")\n",
    "    table = soup.find('table')\n",
    "\n",
    "    df = pd.read_html(str(table))[0]\n",
    "    \n",
    "    # replacing old team shortcuts with the new ones\n",
    "    df['TEAM'] = df['TEAM'].replace(['NOH', 'NJN', 'NOK', 'CHH', 'VAN', 'SEA'], ['NOP', 'BKN', 'NOP', 'CHA','MEM', 'OKC'])\n",
    "    \n",
    "    df[['PLAYER', 'TEAM', 'AGE', 'GP', 'W', 'L', 'MIN', 'PTS', 'FGM', 'FGA', 'FG%', '3PM', '3PA', '3P%', \n",
    "        'FTM', 'FTA', 'FT%', 'OREB', 'DREB', 'REB', 'AST', 'TOV', 'STL', 'BLK', \n",
    "        'PF', 'FP', 'DD2', 'TD3', '+/-'\n",
    "        ]].to_excel(writer, sheet_name=f\"{season}\", index=False)\n",
    "    writer.save()\n",
    "    \n",
    "    # add seasons 00 - 09 into URL\n",
    "    od += 1\n",
    "    if isinstance(do, int):\n",
    "        do += 1\n",
    "    \n",
    "    if od >= 1999 and od <= 2009:\n",
    "        if ListDo:\n",
    "            do = ListDo.pop(0)  \n",
    "        else:\n",
    "            do = 10\n",
    "    driver.close()        \n",
    "print(\"Scraping finished!\")"
   ]
  }
 ],
 "metadata": {
  "interpreter": {
   "hash": "27c22834e991dcba943847db9d8521cefeabfc49ed6a0d837e430468c77ddea6"
  },
  "kernelspec": {
   "display_name": "Python 3.9.12 64-bit",
   "language": "python",
   "name": "python3"
  },
  "language_info": {
   "codemirror_mode": {
    "name": "ipython",
    "version": 3
   },
   "file_extension": ".py",
   "mimetype": "text/x-python",
   "name": "python",
   "nbconvert_exporter": "python",
   "pygments_lexer": "ipython3",
   "version": "3.9.12"
  },
  "orig_nbformat": 4
 },
 "nbformat": 4,
 "nbformat_minor": 2
}
